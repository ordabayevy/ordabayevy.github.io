{
  "cells": [
    {
      "cell_type": "markdown",
      "metadata": {
        "id": "tiXqm82w_H8m"
      },
      "source": [
        "# Optional Lab: Python, NumPy and Vectorization\n",
        "A brief introduction to some of the scientific computing used in this course. In particular the NumPy scientific computing package and its use with python.\n"
      ]
    },
    {
      "cell_type": "code",
      "source": [
        "import torch\n",
        "import torch.distributions as dist\n",
        "import matplotlib.pyplot as plt"
      ],
      "metadata": {
        "id": "HOng6Nar_Kzm"
      },
      "execution_count": null,
      "outputs": []
    },
    {
      "cell_type": "markdown",
      "metadata": {
        "id": "XF3-lJIP_H8o"
      },
      "source": [
        "## 1.1 Goals\n",
        "In this lab, you will:\n",
        "- Review the features of PyTorch distributions that are used in Course 1"
      ]
    },
    {
      "cell_type": "markdown",
      "metadata": {
        "id": "fwedwF0o_H8o"
      },
      "source": [
        "## 1.2 Useful References\n",
        "- List of [PyTorch distributions](https://pytorch.org/docs/stable/distributions.html)\n",
        "- A challenging feature topic: [NumPy Broadcasting](https://NumPy.org/doc/stable/user/basics.broadcasting.html)\n"
      ]
    },
    {
      "cell_type": "markdown",
      "metadata": {
        "id": "kJX_C7Jm_H8o"
      },
      "source": [
        "# 2 Python and PyTorch <a name='Python and NumPy'></a>\n",
        "Python is the programming language we will be using in this course. It has a set of numeric data types and arithmetic operations. NumPy is a library that extends the base capabilities of python to add a richer data set including more numeric types, vectors, matrices, and many matrix functions. NumPy and python  work together fairly seamlessly. Python arithmetic operators work on NumPy data types and many NumPy functions will accept python data types.\n"
      ]
    },
    {
      "cell_type": "markdown",
      "metadata": {
        "id": "o-CfS3Eh_H8o"
      },
      "source": [
        "# 3 Distributions\n",
        "\n",
        "## 3.1 Abstract\n",
        "<img align=\"right\" src=\"./images/C1_W2_Lab04_Vectors.PNG\" style=\"width:340px;\" >Vectors, as you will use them in this course, are ordered arrays of numbers. In notation, vectors are denoted with lower case bold letters such as $\\mathbf{x}$.  The elements of a vector are all the same type. A vector does not, for example, contain both characters and numbers. The number of elements in the array is often referred to as the *dimension* though mathematicians may prefer *rank*. The vector shown has a dimension of $n$. The elements of a vector can be referenced with an index. In math settings, indexes typically run from 1 to n. In computer science and these labs, indexing will typically run from 0 to n-1.  In notation, elements of a vector, when referenced individually will indicate the index in a subscript, for example, the $0^{th}$ element, of the vector $\\mathbf{x}$ is $x_0$. Note, the x is not bold in this case.  \n"
      ]
    },
    {
      "cell_type": "markdown",
      "metadata": {
        "id": "77QGCWns_H8o"
      },
      "source": [
        "## 3.2 PyTorch Distributions\n",
        "\n",
        "NumPy's basic data structure is an indexable, n-dimensional *array* containing elements of the same type (`dtype`). Right away, you may notice we have overloaded the term 'dimension'. Above, it was the number of elements in the vector, here, dimension refers to the number of indexes of an array. A one-dimensional or 1-D array has one index. In Course 1, we will represent vectors as NumPy 1-D arrays. \n",
        "\n",
        " - 1-D array, shape (n,): n elements indexed [0] through [n-1]\n",
        " "
      ]
    },
    {
      "cell_type": "markdown",
      "metadata": {
        "id": "XtvG1HBv_H8p"
      },
      "source": [
        "Distributions are created by providing parameter values to a given distribution from a list of [PyTorch distributions](https://pytorch.org/docs/stable/distributions.html). Below are examples of creating some popular continuous and discrete distributions."
      ]
    },
    {
      "cell_type": "markdown",
      "source": [
        "### Continuous Distributions"
      ],
      "metadata": {
        "id": "rqISJ-wvlsii"
      }
    },
    {
      "cell_type": "markdown",
      "source": [
        "[**Normal Distribution**](https://pytorch.org/docs/stable/distributions.html#normal)\n",
        "\n",
        "$$\\mathrm{Normal}(x \\mid \\mu, \\sigma) = \\frac{1}{\\sigma \\sqrt{2\\pi}}\\exp \\left( {-\\frac{(x-\\mu)^2}{2 \\sigma^2}} \\right)$$\n",
        "$$\\mu \\in \\mathbb{R}$$\n",
        "$$\\sigma \\in \\mathbb{R}_{\\gt 0}$$"
      ],
      "metadata": {
        "id": "FXR4UMO6hEDm"
      }
    },
    {
      "cell_type": "markdown",
      "metadata": {
        "id": "efBfzqRT_H8o"
      },
      "source": [
        "Distribution creation\n"
      ]
    },
    {
      "cell_type": "code",
      "execution_count": null,
      "metadata": {
        "colab": {
          "base_uri": "https://localhost:8080/"
        },
        "id": "D1ICL1ED_H8p",
        "outputId": "10b18432-4a85-4ac3-e511-62add4675b0c"
      },
      "outputs": [
        {
          "output_type": "stream",
          "name": "stdout",
          "text": [
            "normal = dist.Normal(loc=torch.tensor(0.0), scale=torch.tensor(1.0))\n",
            "normal.loc = 0.0\n",
            "normal.scale = 1.0\n",
            "normal.arg_constraints['loc'] = Real()\n",
            "normal.arg_constraints['scale'] = GreaterThan(lower_bound=0.0)\n",
            "normal.support = Real()\n"
          ]
        }
      ],
      "source": [
        "# Normal distribution is parameterized by loc (mean) and scale (standard deviation)\n",
        "normal = dist.Normal(loc=torch.tensor(0.0), scale=torch.tensor(1.0))\n",
        "print(\"normal = dist.Normal(loc=torch.tensor(0.0), scale=torch.tensor(1.0))\")\n",
        "print(f\"normal.loc = {normal.loc}\")\n",
        "print(f\"normal.scale = {normal.scale}\")\n",
        "\n",
        "# loc parameter is constrained to be real-valued and scale is constrained to be positive-valued\n",
        "print(f\"normal.arg_constraints['loc'] = {normal.arg_constraints['loc']}\")\n",
        "print(f\"normal.arg_constraints['scale'] = {normal.arg_constraints['scale']}\")\n",
        "\n",
        "# Normal distribution supports real-valued random variables\n",
        "print(f\"normal.support = {normal.support}\")"
      ]
    },
    {
      "cell_type": "code",
      "source": [
        "# parameters must be within constraints or they will produce an error\n",
        "try:\n",
        "    normal = dist.Normal(loc=0.0, scale=-1.0)\n",
        "except Exception as e:\n",
        "    print(\"The error message you'll see is:\")\n",
        "    print(e)"
      ],
      "metadata": {
        "colab": {
          "base_uri": "https://localhost:8080/"
        },
        "id": "sjhfzhkyX1ob",
        "outputId": "76f95cab-d8f6-413f-8205-f01943c7274d"
      },
      "execution_count": null,
      "outputs": [
        {
          "output_type": "stream",
          "name": "stdout",
          "text": [
            "The error message you'll see is:\n",
            "Expected parameter scale (Tensor of shape ()) of distribution Normal(loc: 0.0, scale: -1.0) to satisfy the constraint GreaterThan(lower_bound=0.0), but found invalid values:\n",
            "-1.0\n"
          ]
        }
      ]
    },
    {
      "cell_type": "markdown",
      "source": [
        "Properties\n",
        "\n",
        "$$\\mathrm{mean} = \\mu$$\n",
        "$$\\mathrm{mode} = \\mu$$\n",
        "$$\\mathrm{stddev} = \\sigma$$\n",
        "$$\\mathrm{variance} = \\sigma^2$$"
      ],
      "metadata": {
        "id": "Nml0ZbaoCXuI"
      }
    },
    {
      "cell_type": "code",
      "source": [
        "# distribution properties\n",
        "print(f\"normal.mean = {normal.mean}\")\n",
        "print(f\"normal.mode = {normal.mode}\")\n",
        "print(f\"normal.stddev = {normal.stddev}\")\n",
        "print(f\"normal.variance = {normal.variance}\")"
      ],
      "metadata": {
        "colab": {
          "base_uri": "https://localhost:8080/"
        },
        "id": "Z9POwkHmCP0K",
        "outputId": "a94114db-1fc2-4fcb-8aaf-c74b145ce9f0"
      },
      "execution_count": null,
      "outputs": [
        {
          "output_type": "stream",
          "name": "stdout",
          "text": [
            "normal.mean = 0.0\n",
            "normal.mode = 0.0\n",
            "normal.stddev = 1.0\n",
            "normal.variance = 1.0\n"
          ]
        }
      ]
    },
    {
      "cell_type": "markdown",
      "source": [
        "Sampling\n",
        "\n",
        "$$x \\sim \\mathrm{Normal}(\\mu,\\,\\sigma)$$\n",
        "$$x \\in \\mathbb{R}$$"
      ],
      "metadata": {
        "id": "43q1XR9aDGa1"
      }
    },
    {
      "cell_type": "code",
      "source": [
        "# sample values are within this support\n",
        "print(f\"normal.support = {normal.support}\")\n",
        "# run this multiple times - each time you will get different random values\n",
        "sample = normal.sample()\n",
        "print(f\"normal.sample() = {sample}\")"
      ],
      "metadata": {
        "colab": {
          "base_uri": "https://localhost:8080/"
        },
        "id": "pCkJi1i6DFme",
        "outputId": "dab49c68-285b-45da-b4ea-76b94d076826"
      },
      "execution_count": null,
      "outputs": [
        {
          "output_type": "stream",
          "name": "stdout",
          "text": [
            "normal.support = Real()\n",
            "normal.sample() = 0.1779175102710724\n"
          ]
        }
      ]
    },
    {
      "cell_type": "code",
      "source": [
        "samples = normal.sample(sample_shape=(1000,))\n",
        "plt.hist(samples, bins=20, density=True)\n",
        "plt.xlim(-5, 5)\n",
        "plt.xlabel(\"x\")\n",
        "plt.ylabel(\"density\")"
      ],
      "metadata": {
        "colab": {
          "base_uri": "https://localhost:8080/",
          "height": 297
        },
        "id": "QE_5D0kwEu2F",
        "outputId": "f591e171-52d4-436a-d432-0bae115328a9"
      },
      "execution_count": null,
      "outputs": [
        {
          "output_type": "execute_result",
          "data": {
            "text/plain": [
              "Text(0, 0.5, 'density')"
            ]
          },
          "metadata": {},
          "execution_count": 6
        },
        {
          "output_type": "display_data",
          "data": {
            "text/plain": [
              "<Figure size 432x288 with 1 Axes>"
            ],
            "image/png": "[encoded data removed]"
          },
          "metadata": {
            "needs_background": "light"
          }
        }
      ]
    },
    {
      "cell_type": "markdown",
      "source": [
        "Probability density function\n",
        "\n",
        "$$\\mathrm{Normal}(x \\mid \\mu, \\sigma) = \\frac{1}{\\sigma \\sqrt{2\\pi}}\\exp \\left( {-\\frac{(x-\\mu)^2}{2 \\sigma^2}} \\right)$$"
      ],
      "metadata": {
        "id": "eiKeznipEijl"
      }
    },
    {
      "cell_type": "code",
      "source": [
        "# Values of x are within support\n",
        "x = torch.linspace(-5, 5, 100)\n",
        "\n",
        "# Take exponent of log_prob to get pdf\n",
        "normal_pdf = normal.log_prob(x).exp()\n",
        "plt.plot(x, normal_pdf, label=\"pdf\")\n",
        "\n",
        "# Plot mean and mode\n",
        "plt.vlines(normal.mean, ymin=0, ymax=normal.log_prob(normal.mean).exp(), colors=\"r\", label=\"mean/mode\")\n",
        "plt.vlines(normal.scale, ymin=0, ymax=normal.log_prob(normal.scale).exp(), colors=\"C2\", label=\"1 stddev\")\n",
        "plt.vlines(-normal.scale, ymin=0, ymax=normal.log_prob(normal.scale).exp(), colors=\"C2\")\n",
        "\n",
        "plt.xlabel(\"x\")\n",
        "plt.ylabel(\"pdf\")\n",
        "plt.xlim(-5, 5)\n",
        "plt.ylim(0, 0.42)\n",
        "plt.legend()\n",
        "plt.show()"
      ],
      "metadata": {
        "colab": {
          "base_uri": "https://localhost:8080/",
          "height": 279
        },
        "id": "NycCqwuGFJrC",
        "outputId": "8bd095bf-3b85-4e45-f025-039963480cde"
      },
      "execution_count": null,
      "outputs": [
        {
          "output_type": "display_data",
          "data": {
            "text/plain": [
              "<Figure size 432x288 with 1 Axes>"
            ],
            "image/png": "[encoded data removed]"
          },
          "metadata": {
            "needs_background": "light"
          }
        }
      ]
    },
    {
      "cell_type": "markdown",
      "source": [
        "Cumulative density function"
      ],
      "metadata": {
        "id": "UUccJ5nxFUuW"
      }
    },
    {
      "cell_type": "code",
      "source": [
        "normal_cdf = normal.cdf(x)\n",
        "plt.plot(x, normal_cdf)\n",
        "\n",
        "plt.xlabel(\"x\")\n",
        "plt.ylabel(\"cdf\")\n",
        "plt.ylim(0)\n",
        "plt.show()"
      ],
      "metadata": {
        "colab": {
          "base_uri": "https://localhost:8080/",
          "height": 279
        },
        "id": "4dmcmnXTFSJT",
        "outputId": "d5083f40-bb62-43cf-f99d-41a4cd42edea"
      },
      "execution_count": null,
      "outputs": [
        {
          "output_type": "display_data",
          "data": {
            "text/plain": [
              "<Figure size 432x288 with 1 Axes>"
            ],
            "image/png": "[encoded data removed]"
          },
          "metadata": {
            "needs_background": "light"
          }
        }
      ]
    },
    {
      "cell_type": "markdown",
      "source": [
        "[**Gamma Distribution**](https://pytorch.org/docs/stable/distributions.html#gamma)\n",
        "\n",
        "Distribution creation\n",
        "\n",
        "$$\\mathrm{Gamma}(x \\mid \\alpha, \\, \\beta)$$\n",
        "$$\\alpha \\in \\mathbb{R}_{\\gt 0}$$\n",
        "$$\\beta \\in \\mathbb{R}_{\\gt 0}$$"
      ],
      "metadata": {
        "id": "BKCyhRwMrDWm"
      }
    },
    {
      "cell_type": "code",
      "source": [
        "# Gamma distribution is parameterized by concentration (alpha) and rate (beta)\n",
        "gamma = dist.Gamma(concentration=torch.tensor(10.0), rate=torch.tensor(2.0))\n",
        "print(\"gamma = dist.Gamma(concentration=torch.tensor(10.0), rate=torch.tensor(2.0))\")\n",
        "print(f\"gamma.concentration = {gamma.concentration}  # alpha\")\n",
        "print(f\"gamma.rate = {gamma.rate}            # beta\")\n",
        "\n",
        "# concentration and rate parameters are constrained to be positive-valued\n",
        "print(f\"gamma.arg_constraints['concentration'] = {gamma.arg_constraints['concentration']}\")\n",
        "print(f\"gamma.arg_constraints['rate'] = {gamma.arg_constraints['rate']}\")\n",
        "\n",
        "# Gamma distribution supports positive-valued random variables\n",
        "print(f\"gamma.support = {gamma.support}\")"
      ],
      "metadata": {
        "colab": {
          "base_uri": "https://localhost:8080/"
        },
        "id": "VQdoZAXWrBP6",
        "outputId": "8fc68d99-6d7e-4298-ca39-41a5568a9b29"
      },
      "execution_count": null,
      "outputs": [
        {
          "output_type": "stream",
          "name": "stdout",
          "text": [
            "gamma = dist.Gamma(concentration=torch.tensor(10.0), rate=torch.tensor(2.0))\n",
            "gamma.concentration = 10.0  # alpha\n",
            "gamma.rate = 2.0            # beta\n",
            "gamma.arg_constraints['concentration'] = GreaterThan(lower_bound=0.0)\n",
            "gamma.arg_constraints['rate'] = GreaterThan(lower_bound=0.0)\n",
            "gamma.support = GreaterThanEq(lower_bound=0.0)\n"
          ]
        }
      ]
    },
    {
      "cell_type": "markdown",
      "source": [
        "Properties\n",
        "\n",
        "$$\\mathrm{mean} = \\frac{\\alpha}{\\beta}$$\n",
        "$$\\mathrm{mode} = \\frac{\\alpha - 1}{\\beta}$$\n",
        "$$\\mathrm{stddev} = \\sqrt{\\frac{\\alpha}{\\beta^2}}$$\n",
        "$$\\mathrm{variance} = \\frac{\\alpha}{\\beta^2}$$"
      ],
      "metadata": {
        "id": "LRYk6xLEHtMZ"
      }
    },
    {
      "cell_type": "code",
      "source": [
        "# distribution properties\n",
        "print(f\"gamma.mean = {gamma.mean}\")\n",
        "print(f\"gamma.mode = {gamma.mode}\")\n",
        "print(f\"gamma.stddev = {gamma.stddev}\")\n",
        "print(f\"gamma.variance = {gamma.variance}\")"
      ],
      "metadata": {
        "colab": {
          "base_uri": "https://localhost:8080/"
        },
        "id": "ZV-k7dI3HdeP",
        "outputId": "de4911f5-9477-4b18-9dc4-22ecfcead1a1"
      },
      "execution_count": null,
      "outputs": [
        {
          "output_type": "stream",
          "name": "stdout",
          "text": [
            "gamma.mean = 5.0\n",
            "gamma.mode = 4.5\n",
            "gamma.stddev = 1.5811388492584229\n",
            "gamma.variance = 2.5\n"
          ]
        }
      ]
    },
    {
      "cell_type": "markdown",
      "source": [
        "Sampling\n",
        "\n",
        "$$x \\sim \\mathrm{Gamma}(\\alpha,\\,\\beta)$$\n",
        "$$x \\in \\mathbb{R}_{\\gt 0}$$"
      ],
      "metadata": {
        "id": "wXyMgivWI0DX"
      }
    },
    {
      "cell_type": "code",
      "source": [
        "# sample values are within this support\n",
        "print(f\"gamma.support = {gamma.support}\")\n",
        "# run this multiple times - each time you will get different random values\n",
        "sample = gamma.sample()\n",
        "print(f\"gamma.sample() = {sample}\")"
      ],
      "metadata": {
        "colab": {
          "base_uri": "https://localhost:8080/"
        },
        "outputId": "a202d66a-bb63-491c-d1a8-b7ea89658992",
        "id": "O0XiGRVEI0DY"
      },
      "execution_count": null,
      "outputs": [
        {
          "output_type": "stream",
          "name": "stdout",
          "text": [
            "gamma.support = GreaterThanEq(lower_bound=0.0)\n",
            "gamma.sample() = 2.986645460128784\n"
          ]
        }
      ]
    },
    {
      "cell_type": "code",
      "source": [
        "samples = gamma.sample(sample_shape=(1000,))\n",
        "plt.hist(samples, bins=20, density=True)\n",
        "plt.xlim(0, 15)\n",
        "plt.xlabel(\"x\")\n",
        "plt.ylabel(\"density\")"
      ],
      "metadata": {
        "colab": {
          "base_uri": "https://localhost:8080/",
          "height": 297
        },
        "outputId": "02a9a428-0df2-4057-e3b8-fbc515720cb1",
        "id": "ZBzodZleI0DY"
      },
      "execution_count": null,
      "outputs": [
        {
          "output_type": "execute_result",
          "data": {
            "text/plain": [
              "Text(0, 0.5, 'density')"
            ]
          },
          "metadata": {},
          "execution_count": 12
        },
        {
          "output_type": "display_data",
          "data": {
            "text/plain": [
              "<Figure size 432x288 with 1 Axes>"
            ],
            "image/png": "[encoded data removed]"
          },
          "metadata": {
            "needs_background": "light"
          }
        }
      ]
    },
    {
      "cell_type": "markdown",
      "source": [
        "Probability density function\n",
        "\n",
        "$$\\mathrm{Gamma}(x \\mid \\alpha, \\, \\beta) = \\frac{\\beta^\\alpha}{\\Gamma (\\alpha)}x ^{\\alpha-1} e^{-\\beta x}$$"
      ],
      "metadata": {
        "id": "iRebo2BVI0DY"
      }
    },
    {
      "cell_type": "code",
      "source": [
        "# Define values of x within support\n",
        "x = torch.linspace(0, 15, 100)\n",
        "\n",
        "# Take exponent of log_prob to get pdf\n",
        "gamma_pdf = gamma.log_prob(x).exp()\n",
        "plt.plot(x, gamma_pdf, label=\"pdf\")\n",
        "\n",
        "# Plot mean and mode\n",
        "plt.vlines(gamma.mean, ymin=0, ymax=gamma.log_prob(gamma.mean).exp(), colors=\"r\", label=\"mean\")\n",
        "plt.vlines(gamma.mode, ymin=0, ymax=gamma.log_prob(gamma.mode).exp(), colors=\"g\", label=\"mode\")\n",
        "\n",
        "plt.xlabel(\"x\")\n",
        "plt.ylabel(\"pdf\")\n",
        "plt.xlim(0, 12)\n",
        "plt.ylim(0)\n",
        "plt.legend()\n",
        "plt.show()"
      ],
      "metadata": {
        "colab": {
          "base_uri": "https://localhost:8080/",
          "height": 279
        },
        "outputId": "b48beba3-4061-4fd0-a07c-34f3ddbf7e07",
        "id": "TuL_ohskI0DY"
      },
      "execution_count": null,
      "outputs": [
        {
          "output_type": "display_data",
          "data": {
            "text/plain": [
              "<Figure size 432x288 with 1 Axes>"
            ],
            "image/png": "[encoded data removed]"
          },
          "metadata": {
            "needs_background": "light"
          }
        }
      ]
    },
    {
      "cell_type": "markdown",
      "source": [
        "[**Beta Distribution**](https://pytorch.org/docs/stable/distributions.html#beta)\n",
        "\n",
        "$$\\mathrm{Beta}(x \\mid \\alpha, \\, \\beta)$$"
      ],
      "metadata": {
        "id": "Bgl8B20tPDMM"
      }
    },
    {
      "cell_type": "markdown",
      "source": [
        "**Delta Distribution**"
      ],
      "metadata": {
        "id": "ad0jdd0OTCex"
      }
    },
    {
      "cell_type": "markdown",
      "source": [
        "[**Poisson Distribution**](https://pytorch.org/docs/stable/distributions.html#poisson)\n",
        "\n",
        "Distribution creation\n",
        "\n",
        "$$\\mathrm{Poisson}(x \\mid \\lambda)$$\n",
        "$$\\lambda \\in \\mathbb{R}_{\\gt 0}$$"
      ],
      "metadata": {
        "id": "b-gLCt-MtR54"
      }
    },
    {
      "cell_type": "code",
      "source": [
        "# Poisson distribution is parameterized by rate (lambda)\n",
        "poisson = dist.Poisson(rate=torch.tensor(5.0))\n",
        "print(\"poisson = dist.Poisson(rate=torch.tensor(5.0))\")\n",
        "print(f\"poisson.rate = {poisson.rate}            # lambda\")\n",
        "\n",
        "# rate parameter is constrained to be positive-valued\n",
        "print(f\"poisson.arg_constraints['rate'] = {poisson.arg_constraints['rate']}\")\n",
        "\n",
        "# Poisson distribution supports nonnegative-integer random variables\n",
        "print(f\"poisson.support = {poisson.support}\")"
      ],
      "metadata": {
        "colab": {
          "base_uri": "https://localhost:8080/"
        },
        "outputId": "999982e1-757e-48b8-eb3e-03973e409121",
        "id": "c7tRzurLLPhC"
      },
      "execution_count": null,
      "outputs": [
        {
          "output_type": "stream",
          "name": "stdout",
          "text": [
            "poisson = dist.Poisson(rate=torch.tensor(5.0))\n",
            "poisson.rate = 5.0            # lambda\n",
            "poisson.arg_constraints['rate'] = GreaterThanEq(lower_bound=0.0)\n",
            "poisson.support = IntegerGreaterThan(lower_bound=0)\n"
          ]
        }
      ]
    },
    {
      "cell_type": "markdown",
      "source": [
        "Properties\n",
        "\n",
        "$$\\mathrm{mean} = \\lambda$$\n",
        "$$\\mathrm{mode} = \\lambda$$\n",
        "$$\\mathrm{stddev} = \\sqrt{\\lambda}$$\n",
        "$$\\mathrm{variance} = \\lambda$$"
      ],
      "metadata": {
        "id": "y7ytaMP4LPhK"
      }
    },
    {
      "cell_type": "code",
      "source": [
        "# distribution properties\n",
        "print(f\"poisson.mean = {poisson.mean}\")\n",
        "print(f\"poisson.mode = {poisson.mode}\")\n",
        "print(f\"poisson.stddev = {poisson.stddev}\")\n",
        "print(f\"poisson.variance = {poisson.variance}\")"
      ],
      "metadata": {
        "colab": {
          "base_uri": "https://localhost:8080/"
        },
        "outputId": "efa34bb0-56f8-48fb-9d25-c166c8f5cfb6",
        "id": "0OVvavwhLPhK"
      },
      "execution_count": null,
      "outputs": [
        {
          "output_type": "stream",
          "name": "stdout",
          "text": [
            "poisson.mean = 5.0\n",
            "poisson.mode = 5.0\n",
            "poisson.stddev = 2.2360680103302\n",
            "poisson.variance = 5.0\n"
          ]
        }
      ]
    },
    {
      "cell_type": "markdown",
      "source": [
        "Sampling\n",
        "\n",
        "$$x \\sim \\mathrm{Poisson}(\\lambda)$$\n",
        "$$x \\in \\mathbb{Z}_{\\ge 0}$$"
      ],
      "metadata": {
        "id": "uVv_hnK7LPhK"
      }
    },
    {
      "cell_type": "code",
      "source": [
        "# sample values are within this support\n",
        "print(f\"poisson.support = {poisson.support}\")\n",
        "# run this multiple times - each time you will get different random values\n",
        "sample = poisson.sample()\n",
        "print(f\"poisson.sample() = {sample}\")"
      ],
      "metadata": {
        "colab": {
          "base_uri": "https://localhost:8080/"
        },
        "outputId": "2b5747cf-3f6c-443b-81b6-8fb0d5b06e1c",
        "id": "S2mDAOFfLPhL"
      },
      "execution_count": null,
      "outputs": [
        {
          "output_type": "stream",
          "name": "stdout",
          "text": [
            "poisson.support = IntegerGreaterThan(lower_bound=0)\n",
            "poisson.sample() = 5.0\n"
          ]
        }
      ]
    },
    {
      "cell_type": "code",
      "source": [
        "samples = poisson.sample(sample_shape=(1000,))\n",
        "sample_values, sample_counts = torch.unique(samples, return_counts=True)\n",
        "plt.bar(sample_values, sample_counts / 1000)\n",
        "plt.xlabel(\"x\")\n",
        "plt.ylabel(\"density\")"
      ],
      "metadata": {
        "colab": {
          "base_uri": "https://localhost:8080/",
          "height": 297
        },
        "outputId": "a3417eb1-9439-47e7-cafa-93e6362fabf6",
        "id": "SRnGsS-qLPhL"
      },
      "execution_count": null,
      "outputs": [
        {
          "output_type": "execute_result",
          "data": {
            "text/plain": [
              "Text(0, 0.5, 'density')"
            ]
          },
          "metadata": {},
          "execution_count": 17
        },
        {
          "output_type": "display_data",
          "data": {
            "text/plain": [
              "<Figure size 432x288 with 1 Axes>"
            ],
            "image/png": "[encoded data removed]"
          },
          "metadata": {
            "needs_background": "light"
          }
        }
      ]
    },
    {
      "cell_type": "markdown",
      "source": [
        "Probability density function\n",
        "\n",
        "$$\\mathrm{Poisson}(x \\mid \\lambda) = \\lambda^x \\frac{e^{-\\lambda}}{x!}$$"
      ],
      "metadata": {
        "id": "qItdNJVXLPhL"
      }
    },
    {
      "cell_type": "code",
      "source": [
        "# Define values of x within support\n",
        "x = torch.arange(0, 20)\n",
        "\n",
        "# Take exponent of log_prob to get pdf\n",
        "poisson_pdf = poisson.log_prob(x).exp()\n",
        "plt.bar(x, poisson_pdf, label=\"pdf\")\n",
        "\n",
        "# Plot mean and mode\n",
        "plt.vlines(poisson.mean, ymin=0, ymax=poisson.log_prob(poisson.mean).exp(), colors=\"r\", label=\"mean\")\n",
        "plt.vlines(poisson.mode, ymin=0, ymax=poisson.log_prob(poisson.mode).exp(), colors=\"g\", label=\"mode\")\n",
        "\n",
        "plt.xlabel(\"x\")\n",
        "plt.ylabel(\"pdf\")\n",
        "plt.xlim(0, 20)\n",
        "plt.ylim(0)\n",
        "plt.legend()\n",
        "plt.show()"
      ],
      "metadata": {
        "colab": {
          "base_uri": "https://localhost:8080/",
          "height": 279
        },
        "outputId": "de4e34a5-2d7c-46c0-eeea-065d66b0d94b",
        "id": "FHeohEfLLPhL"
      },
      "execution_count": null,
      "outputs": [
        {
          "output_type": "display_data",
          "data": {
            "text/plain": [
              "<Figure size 432x288 with 1 Axes>"
            ],
            "image/png": "[encoded data removed]"
          },
          "metadata": {
            "needs_background": "light"
          }
        }
      ]
    },
    {
      "cell_type": "code",
      "source": [
        "# NumPy routines which allocate memory and fill arrays with value\n",
        "try:\n",
        "    bernoulli = dist.Bernoulli(probs=0.3, logits=0)\n",
        "except Exception as e:\n",
        "    print(\"The error message you'll see is:\")\n",
        "    print(e)"
      ],
      "metadata": {
        "colab": {
          "base_uri": "https://localhost:8080/"
        },
        "id": "AM8bb5ZZU3u1",
        "outputId": "33c8121c-46da-4a64-8d40-1f7b92c1466d"
      },
      "execution_count": null,
      "outputs": [
        {
          "output_type": "stream",
          "name": "stdout",
          "text": [
            "The error message you'll see is:\n",
            "Either `probs` or `logits` must be specified, but not both.\n"
          ]
        }
      ]
    },
    {
      "cell_type": "markdown",
      "source": [
        "[**Bernoulli Distribution**](https://pytorch.org/docs/stable/distributions.html#bernoulli)\n",
        "\n",
        "Distribution creation\n",
        "\n",
        "$$\\mathrm{Bernoulli}(x \\mid p)$$\n",
        "$$p \\in [0, 1]$$\n",
        "\n",
        "or alternatively by logit(p)\n",
        "\n",
        "$$\\mathrm{Bernoulli}(x \\mid \\mathrm{logit}(p))$$\n",
        "where\n",
        "$$\\mathrm{logit}(p) = \\log \\frac{p}{1-p}$$"
      ],
      "metadata": {
        "id": "E415YN6zQ4pD"
      }
    },
    {
      "cell_type": "code",
      "source": [
        "# Bernoulli distribution is parameterized by probs (p)\n",
        "bernoulli_probs = dist.Bernoulli(probs=torch.tensor(0.3))\n",
        "print(\"bernoulli_probs = dist.Bernoulli(probs=torch.tensor(0.3))\")\n",
        "print(f\"bernoulli_probs.probs = {bernoulli_probs.probs}            # p\")\n",
        "print(f\"bernoulli_probs.logits = {bernoulli_probs.logits}            # logit(p)\")\n",
        "\n",
        "# Verify logit(p)\n",
        "print(f\"logit(p) = {torch.log(bernoulli_probs.probs / (1 - bernoulli_probs.probs))}\")\n",
        "\n",
        "# rate parameter is constrained to be positive-valued\n",
        "print(f\"bernoulli_probs.arg_constraints['probs'] = {bernoulli_probs.arg_constraints['probs']}\")\n",
        "print(f\"bernoulli_probs.arg_constraints['logits'] = {bernoulli_probs.arg_constraints['logits']}\")\n",
        "\n",
        "# Bernoulli distribution supports binary random variables\n",
        "print(f\"bernoulli_probs.support = {bernoulli_probs.support}\")"
      ],
      "metadata": {
        "colab": {
          "base_uri": "https://localhost:8080/"
        },
        "outputId": "70c8dafd-2e5d-4af6-8ede-9b3b946112c7",
        "id": "TBAplNYpQ4pM"
      },
      "execution_count": null,
      "outputs": [
        {
          "output_type": "stream",
          "name": "stdout",
          "text": [
            "bernoulli_probs = dist.Bernoulli(probs=torch.tensor(0.3))\n",
            "bernoulli_probs.probs = 0.30000001192092896            # p\n",
            "bernoulli_probs.logits = -0.8472978472709656            # logit(p)\n",
            "logit(p) = -0.8472977876663208\n",
            "bernoulli_probs.arg_constraints['probs'] = Interval(lower_bound=0.0, upper_bound=1.0)\n",
            "bernoulli_probs.arg_constraints['logits'] = Real()\n",
            "bernoulli_probs.support = Boolean()\n"
          ]
        }
      ]
    },
    {
      "cell_type": "code",
      "source": [
        "# Bernoulli distribution is parameterized by probs (p)\n",
        "bernoulli_logits = dist.Bernoulli(logits=torch.tensor(0.0))\n",
        "print(\"bernoulli_logits = dist.Bernoulli(probs=torch.tensor(0.3))\")\n",
        "print(f\"bernoulli_logits.probs = {bernoulli_logits.probs}            # p\")\n",
        "print(f\"bernoulli_logits.logits = {bernoulli_logits.logits}            # logit(p)\")\n",
        "\n",
        "# Verify inverse of logit(p)\n",
        "print(f\"p = {1 / (1 + torch.exp(-bernoulli_logits.logits))}\")\n",
        "\n",
        "# rate parameter is constrained to be positive-valued\n",
        "print(f\"bernoulli_logits.arg_constraints['probs'] = {bernoulli_logits.arg_constraints['probs']}\")\n",
        "print(f\"bernoulli_logits.arg_constraints['logits'] = {bernoulli_logits.arg_constraints['logits']}\")\n",
        "\n",
        "# Bernoulli distribution supports binary random variables\n",
        "print(f\"bernoulli_logits.support = {bernoulli_logits.support}\")"
      ],
      "metadata": {
        "colab": {
          "base_uri": "https://localhost:8080/"
        },
        "id": "v6eEX2OcKgy5",
        "outputId": "81287761-7293-4f08-f084-8535bfa767da"
      },
      "execution_count": null,
      "outputs": [
        {
          "output_type": "stream",
          "name": "stdout",
          "text": [
            "bernoulli_logits = dist.Bernoulli(probs=torch.tensor(0.3))\n",
            "bernoulli_logits.probs = 0.5            # p\n",
            "bernoulli_logits.logits = 0.0            # logit(p)\n",
            "p = 0.5\n",
            "bernoulli_logits.arg_constraints['probs'] = Interval(lower_bound=0.0, upper_bound=1.0)\n",
            "bernoulli_logits.arg_constraints['logits'] = Real()\n",
            "bernoulli_logits.support = Boolean()\n"
          ]
        }
      ]
    },
    {
      "cell_type": "markdown",
      "source": [
        "Properties\n",
        "\n",
        "$$\\mathrm{mean} = p$$\n",
        "\\begin{align}\n",
        "  \\mathrm{mode} = \\left\\{\n",
        "  \\begin{array}{cl}\n",
        "  0 & p \\lt 0.5 \\\\\n",
        "  1 & p > 0.5\n",
        "  \\end{array}\n",
        "  \\right.\n",
        "\\end{align}\n",
        "$$\\mathrm{stddev} = \\sqrt{p(1-p)}$$\n",
        "$$\\mathrm{variance} = p(1-p)$$"
      ],
      "metadata": {
        "id": "ZbYrGmwxQ4pM"
      }
    },
    {
      "cell_type": "code",
      "source": [
        "# distribution properties\n",
        "print(f\"bernoulli_probs.mean = {bernoulli_probs.mean}\")\n",
        "print(f\"bernoulli_probs.mode = {bernoulli_probs.mode}\")\n",
        "print(f\"bernoulli_probs.stddev = {bernoulli_probs.stddev}\")\n",
        "print(f\"bernoulli_probs.variance = {bernoulli_probs.variance}\")"
      ],
      "metadata": {
        "colab": {
          "base_uri": "https://localhost:8080/"
        },
        "outputId": "bcf738e1-1032-4541-a729-d6c01f8a10a4",
        "id": "oysvLFwHQ4pN"
      },
      "execution_count": null,
      "outputs": [
        {
          "output_type": "stream",
          "name": "stdout",
          "text": [
            "bernoulli_probs.mean = 0.30000001192092896\n",
            "bernoulli_probs.mode = 0.0\n",
            "bernoulli_probs.stddev = 0.4582575857639313\n",
            "bernoulli_probs.variance = 0.21000000834465027\n"
          ]
        }
      ]
    },
    {
      "cell_type": "markdown",
      "source": [
        "Sampling\n",
        "\n",
        "$$x \\sim \\mathrm{Bernoulli}(p)$$\n",
        "$$x \\in \\{0, \\, 1 \\}$$"
      ],
      "metadata": {
        "id": "qCNjJZq7Q4pN"
      }
    },
    {
      "cell_type": "code",
      "source": [
        "# sample values are within this support\n",
        "print(f\"bernoulli_probs.support = {bernoulli_probs.support}\")\n",
        "# run this multiple times - each time you will get different random values\n",
        "sample = bernoulli_probs.sample()\n",
        "print(f\"bernoulli_probs.sample() = {sample}\")"
      ],
      "metadata": {
        "colab": {
          "base_uri": "https://localhost:8080/"
        },
        "outputId": "b97a6289-6671-409d-8dce-06cf2f890db0",
        "id": "620gzJiSQ4pN"
      },
      "execution_count": null,
      "outputs": [
        {
          "output_type": "stream",
          "name": "stdout",
          "text": [
            "bernoulli_probs.support = Boolean()\n",
            "bernoulli_probs.sample() = 1.0\n"
          ]
        }
      ]
    },
    {
      "cell_type": "code",
      "source": [
        "samples = bernoulli_probs.sample(sample_shape=(1000,))\n",
        "sample_values, sample_counts = torch.unique(samples, return_counts=True)\n",
        "plt.bar(sample_values, sample_counts / 1000)\n",
        "plt.xlabel(\"x\")\n",
        "plt.ylabel(\"density\")"
      ],
      "metadata": {
        "colab": {
          "base_uri": "https://localhost:8080/",
          "height": 297
        },
        "outputId": "c9394047-3391-438b-dd79-85e71f383956",
        "id": "1m3TaJfmQ4pN"
      },
      "execution_count": null,
      "outputs": [
        {
          "output_type": "execute_result",
          "data": {
            "text/plain": [
              "Text(0, 0.5, 'density')"
            ]
          },
          "metadata": {},
          "execution_count": 30
        },
        {
          "output_type": "display_data",
          "data": {
            "text/plain": [
              "<Figure size 432x288 with 1 Axes>"
            ],
            "image/png": "[encoded data removed]"
          },
          "metadata": {
            "needs_background": "light"
          }
        }
      ]
    },
    {
      "cell_type": "markdown",
      "source": [
        "Probability density function\n",
        "\n",
        "$$\\mathrm{Bernoulli}(x \\mid p) = p^{x} (1-p)^{1-x}$$"
      ],
      "metadata": {
        "id": "U3i3m1ujQ4pN"
      }
    },
    {
      "cell_type": "code",
      "source": [
        "# Define values of x within support\n",
        "x = torch.tensor([0.0, 1.0])\n",
        "\n",
        "# Take exponent of log_prob to get pdf\n",
        "bernoulli_pdf = bernoulli_probs.log_prob(x).exp()\n",
        "plt.bar(x, bernoulli_pdf, label=\"pdf\")\n",
        "\n",
        "# Plot mean and mode\n",
        "plt.vlines(bernoulli_probs.mean, ymin=0, ymax=0.7, colors=\"r\", label=\"mean\")\n",
        "plt.vlines(bernoulli_probs.mode, ymin=0, ymax=0.7, colors=\"g\", label=\"mode\")\n",
        "\n",
        "plt.xlabel(\"x\")\n",
        "plt.ylabel(\"pmf\")\n",
        "# plt.xlim(0, 20)\n",
        "plt.ylim(0)\n",
        "plt.legend()\n",
        "plt.show()"
      ],
      "metadata": {
        "colab": {
          "base_uri": "https://localhost:8080/",
          "height": 279
        },
        "outputId": "ad2cda1d-3aba-4fbc-f262-5f8e36feaee5",
        "id": "IZNjAfV-Q4pN"
      },
      "execution_count": null,
      "outputs": [
        {
          "output_type": "display_data",
          "data": {
            "text/plain": [
              "<Figure size 432x288 with 1 Axes>"
            ],
            "image/png": "[encoded data removed]"
          },
          "metadata": {
            "needs_background": "light"
          }
        }
      ]
    },
    {
      "cell_type": "code",
      "source": [
        "categorical_probs = dist.Categorical(probs=torch.tensor([0.3, 0.5, 0.1, 0.1]))\n",
        "print(f\"categorical_probs = {categorical_probs}\")\n",
        "print(f\"support = {categorical_probs.support}  # sample values are within this support\")\n",
        "print(\"Distribution parameters:\")\n",
        "print(f\"probs: value = {categorical_probs.probs}, constraint = {categorical_probs.arg_constraints['probs']}\")\n",
        "print(f\"logits: value = {categorical_probs.logits}, constraint = {categorical_probs.arg_constraints['logits']}\")\n",
        "print(\"Distribution properties:\")\n",
        "print(f\"mean = {categorical_probs.mean}               # equals to rate\")\n",
        "print(f\"mode = {categorical_probs.mode}               # equals to rate\")\n",
        "print(f\"standard deviation = {categorical_probs.stddev} # equals to sqrt(rate)\")\n",
        "print(f\"variance = {categorical_probs.variance}           # equals to rate\")"
      ],
      "metadata": {
        "colab": {
          "base_uri": "https://localhost:8080/"
        },
        "id": "WTpPukpAYItv",
        "outputId": "15690646-3cd7-4745-d268-7604414dd62b"
      },
      "execution_count": null,
      "outputs": [
        {
          "output_type": "stream",
          "name": "stdout",
          "text": [
            "categorical_probs = Categorical(probs: torch.Size([4]))\n",
            "support = IntegerInterval(lower_bound=0, upper_bound=3)  # sample values are within this support\n",
            "Distribution parameters:\n",
            "probs: value = tensor([0.3000, 0.5000, 0.1000, 0.1000]), constraint = Simplex()\n",
            "logits: value = tensor([-1.2040, -0.6931, -2.3026, -2.3026]), constraint = IndependentConstraint(Real(), 1)\n",
            "Distribution properties:\n",
            "mean = nan               # equals to rate\n",
            "mode = 1               # equals to rate\n",
            "standard deviation = nan # equals to sqrt(rate)\n",
            "variance = nan           # equals to rate\n"
          ]
        }
      ]
    },
    {
      "cell_type": "code",
      "source": [
        "categorical_probs = dist.Categorical(probs=torch.tensor([0.5, 1, 0.7, 0.3]))\n",
        "print(f\"categorical_probs = {categorical_probs}\")\n",
        "print(f\"support = {categorical_probs.support}  # sample values are within this support\")\n",
        "print(\"Distribution parameters:\")\n",
        "print(f\"probs: value = {categorical_probs.probs}, constraint = {categorical_probs.arg_constraints['probs']}\")\n",
        "print(f\"logits: value = {categorical_probs.logits}, constraint = {categorical_probs.arg_constraints['logits']}\")\n",
        "print(\"Distribution properties:\")\n",
        "print(f\"mean = {categorical_probs.mean}               # equals to rate\")\n",
        "print(f\"mode = {categorical_probs.mode}               # equals to rate\")\n",
        "print(f\"standard deviation = {categorical_probs.stddev} # equals to sqrt(rate)\")\n",
        "print(f\"variance = {categorical_probs.variance}           # equals to rate\")"
      ],
      "metadata": {
        "colab": {
          "base_uri": "https://localhost:8080/"
        },
        "id": "lWLA5amdYlzl",
        "outputId": "b5d0f3a5-62f8-492d-b36c-98da8595ed07"
      },
      "execution_count": null,
      "outputs": [
        {
          "output_type": "stream",
          "name": "stdout",
          "text": [
            "categorical_probs = Categorical(probs: torch.Size([4]))\n",
            "support = IntegerInterval(lower_bound=0, upper_bound=3)  # sample values are within this support\n",
            "Distribution parameters:\n",
            "probs: value = tensor([0.2000, 0.4000, 0.2800, 0.1200]), constraint = Simplex()\n",
            "logits: value = tensor([-1.6094, -0.9163, -1.2730, -2.1203]), constraint = IndependentConstraint(Real(), 1)\n",
            "Distribution properties:\n",
            "mean = nan               # equals to rate\n",
            "mode = 1               # equals to rate\n",
            "standard deviation = nan # equals to sqrt(rate)\n",
            "variance = nan           # equals to rate\n"
          ]
        }
      ]
    },
    {
      "cell_type": "code",
      "source": [
        "categorical_logits = dist.Categorical(logits=torch.tensor([0.5, 1, -1, 0]))\n",
        "print(f\"categorical_logits = {categorical_logits}\")\n",
        "print(f\"support = {categorical_logits.support}  # sample values are within this support\")\n",
        "print(\"Distribution parameters:\")\n",
        "print(f\"probs: value = {categorical_logits.probs}, constraint = {categorical_logits.arg_constraints['probs']}\")\n",
        "print(f\"logits: value = {categorical_logits.logits}, constraint = {categorical_logits.arg_constraints['logits']}\")\n",
        "print(\"Distribution properties:\")\n",
        "print(f\"mean = {categorical_logits.mean}               # equals to rate\")\n",
        "print(f\"mode = {categorical_logits.mode}               # equals to rate\")\n",
        "print(f\"standard deviation = {categorical_logits.stddev} # equals to sqrt(rate)\")\n",
        "print(f\"variance = {categorical_logits.variance}           # equals to rate\")"
      ],
      "metadata": {
        "colab": {
          "base_uri": "https://localhost:8080/"
        },
        "id": "RnGW8K3mZCnA",
        "outputId": "175cbcd9-c85c-4484-d94b-dc56fa33358a"
      },
      "execution_count": null,
      "outputs": [
        {
          "output_type": "stream",
          "name": "stdout",
          "text": [
            "categorical_logits = Categorical(logits: torch.Size([4]))\n",
            "support = IntegerInterval(lower_bound=0, upper_bound=3)  # sample values are within this support\n",
            "Distribution parameters:\n",
            "probs: value = tensor([0.2875, 0.4740, 0.0641, 0.1744]), constraint = Simplex()\n",
            "logits: value = tensor([-1.2466, -0.7466, -2.7466, -1.7466]), constraint = IndependentConstraint(Real(), 1)\n",
            "Distribution properties:\n",
            "mean = nan               # equals to rate\n",
            "mode = 1               # equals to rate\n",
            "standard deviation = nan # equals to sqrt(rate)\n",
            "variance = nan           # equals to rate\n"
          ]
        }
      ]
    },
    {
      "cell_type": "markdown",
      "metadata": {
        "id": "3XiDwhRC_H8p"
      },
      "source": [
        "Some data creation routines do not take a shape tuple:"
      ]
    },
    {
      "cell_type": "code",
      "execution_count": null,
      "metadata": {
        "id": "RDcHRdya_H8p"
      },
      "outputs": [],
      "source": [
        "# NumPy routines which allocate memory and fill arrays with value but do not accept shape as input argument\n",
        "a = np.arange(4.);              print(f\"np.arange(4.):     a = {a}, a shape = {a.shape}, a data type = {a.dtype}\")\n",
        "a = np.random.rand(4);          print(f\"np.random.rand(4): a = {a}, a shape = {a.shape}, a data type = {a.dtype}\")"
      ]
    },
    {
      "cell_type": "markdown",
      "metadata": {
        "id": "J1w-rh-Y_H8p"
      },
      "source": [
        "values can be specified manually as well. "
      ]
    },
    {
      "cell_type": "code",
      "execution_count": null,
      "metadata": {
        "id": "6PyB5wzC_H8p"
      },
      "outputs": [],
      "source": [
        "# NumPy routines which allocate memory and fill with user specified values\n",
        "a = np.array([5,4,3,2]);  print(f\"np.array([5,4,3,2]):  a = {a},     a shape = {a.shape}, a data type = {a.dtype}\")\n",
        "a = np.array([5.,4,3,2]); print(f\"np.array([5.,4,3,2]): a = {a}, a shape = {a.shape}, a data type = {a.dtype}\")"
      ]
    },
    {
      "cell_type": "markdown",
      "metadata": {
        "id": "mtun1Fqj_H8p"
      },
      "source": [
        "These have all created a one-dimensional vector  `a` with four elements. `a.shape` returns the dimensions. Here we see a.shape = `(4,)` indicating a 1-d array with 4 elements.  "
      ]
    },
    {
      "cell_type": "markdown",
      "metadata": {
        "id": "gy_pSQBL_H8p"
      },
      "source": [
        "<a name=\"toc_40015_3.4\"></a>\n",
        "## 3.4 Operations on Distributions\n",
        "Let's explore some operations using vectors.\n",
        "<a name=\"toc_40015_3.4.1\"></a>\n",
        "### 3.4.1 Sampling\n",
        "Elements of vectors can be accessed via indexing and slicing. NumPy provides a very complete set of indexing and slicing capabilities. We will explore only the basics needed for the course here. Reference [Slicing and Indexing](https://NumPy.org/doc/stable/reference/arrays.indexing.html) for more details.  \n",
        "**Indexing** means referring to *an element* of an array by its position within the array.  \n",
        "**Slicing** means getting a *subset* of elements from an array based on their indices.  \n",
        "NumPy starts indexing at zero so the 3rd element of an vector $\\mathbf{a}$ is `a[2]`."
      ]
    },
    {
      "cell_type": "code",
      "source": [
        "print(f\"support = {bernoulli_probs.support}  # sample values are within this support\")\n",
        "sample = bernoulli_probs.sample()\n",
        "print(f\"sample ~ gamma: value = {sample} # run this multiple times - each time you will get different random values\")"
      ],
      "metadata": {
        "colab": {
          "base_uri": "https://localhost:8080/"
        },
        "id": "Dosi1Lhxa6fO",
        "outputId": "ad402b5e-ea68-48dd-ba33-4e7cef928fa1"
      },
      "execution_count": null,
      "outputs": [
        {
          "output_type": "stream",
          "name": "stdout",
          "text": [
            "support = Boolean()  # sample values are within this support\n",
            "sample ~ gamma: value = 0.0 # run this multiple times - each time you will get different random values\n"
          ]
        }
      ]
    },
    {
      "cell_type": "code",
      "source": [
        "samples = bernoulli_probs.sample(sample_shape=(1000,))\n",
        "sample_values, sample_counts = torch.unique(samples, return_counts=True)\n",
        "plt.bar(sample_values, sample_counts)"
      ],
      "metadata": {
        "colab": {
          "base_uri": "https://localhost:8080/",
          "height": 285
        },
        "id": "2tUczvSQbAS2",
        "outputId": "b10fea55-ba39-4b18-b950-c64c812a0e84"
      },
      "execution_count": null,
      "outputs": [
        {
          "output_type": "execute_result",
          "data": {
            "text/plain": [
              "<BarContainer object of 2 artists>"
            ]
          },
          "metadata": {},
          "execution_count": 80
        },
        {
          "output_type": "display_data",
          "data": {
            "text/plain": [
              "<Figure size 432x288 with 1 Axes>"
            ],
            "image/png": "[encoded data removed]"
          },
          "metadata": {
            "needs_background": "light"
          }
        }
      ]
    },
    {
      "cell_type": "code",
      "source": [
        "print(f\"support = {categorical_probs.support}  # sample values are within this support\")\n",
        "sample = categorical_probs.sample()\n",
        "print(f\"sample ~ categorical: value = {sample} # run this multiple times - each time you will get different random values\")"
      ],
      "metadata": {
        "colab": {
          "base_uri": "https://localhost:8080/"
        },
        "id": "AjIieadAcjHY",
        "outputId": "15f84b0f-1839-4869-9b48-8a0bcba1c479"
      },
      "execution_count": null,
      "outputs": [
        {
          "output_type": "stream",
          "name": "stdout",
          "text": [
            "support = IntegerInterval(lower_bound=0, upper_bound=3)  # sample values are within this support\n",
            "sample ~ categorical: value = 1 # run this multiple times - each time you will get different random values\n"
          ]
        }
      ]
    },
    {
      "cell_type": "code",
      "source": [
        "samples = categorical_probs.sample(sample_shape=(1000,))\n",
        "sample_values, sample_counts = torch.unique(samples, return_counts=True)\n",
        "plt.bar(sample_values, sample_counts)"
      ],
      "metadata": {
        "colab": {
          "base_uri": "https://localhost:8080/",
          "height": 283
        },
        "id": "4doiJrpgcua0",
        "outputId": "9865c2ba-902f-4531-f1a4-78404e99d72f"
      },
      "execution_count": null,
      "outputs": [
        {
          "output_type": "execute_result",
          "data": {
            "text/plain": [
              "<BarContainer object of 4 artists>"
            ]
          },
          "metadata": {},
          "execution_count": 90
        },
        {
          "output_type": "display_data",
          "data": {
            "text/plain": [
              "<Figure size 432x288 with 1 Axes>"
            ],
            "image/png": "[encoded data removed]"
          },
          "metadata": {
            "needs_background": "light"
          }
        }
      ]
    },
    {
      "cell_type": "code",
      "execution_count": null,
      "metadata": {
        "id": "Az02Q9xu_H8p"
      },
      "outputs": [],
      "source": [
        "#vector indexing operations on 1-D vectors\n",
        "a = np.arange(10)\n",
        "print(a)\n",
        "\n",
        "#access an element\n",
        "print(f\"a[2].shape: {a[2].shape} a[2]  = {a[2]}, Accessing an element returns a scalar\")\n",
        "\n",
        "# access the last element, negative indexes count from the end\n",
        "print(f\"a[-1] = {a[-1]}\")\n",
        "\n",
        "#indexs must be within the range of the vector or they will produce and error\n",
        "try:\n",
        "    c = a[10]\n",
        "except Exception as e:\n",
        "    print(\"The error message you'll see is:\")\n",
        "    print(e)"
      ]
    },
    {
      "cell_type": "markdown",
      "metadata": {
        "id": "a8tH9NCo_H8q"
      },
      "source": [
        "<a name=\"toc_40015_3.4.2\"></a>\n",
        "### 3.4.2 Log-probability\n",
        "Slicing creates an array of indices using a set of three values (`start:stop:step`). A subset of values is also valid. Its use is best explained by example:"
      ]
    },
    {
      "cell_type": "code",
      "source": [
        "categorical_probs.support.lower_bound"
      ],
      "metadata": {
        "colab": {
          "base_uri": "https://localhost:8080/"
        },
        "id": "AHuhf_Exeqgj",
        "outputId": "824b036e-30fd-485a-8a28-fd0cc7f4b0cb"
      },
      "execution_count": null,
      "outputs": [
        {
          "output_type": "execute_result",
          "data": {
            "text/plain": [
              "0"
            ]
          },
          "metadata": {},
          "execution_count": 106
        }
      ]
    },
    {
      "cell_type": "code",
      "source": [
        "x_min = categorical_probs.support.lower_bound\n",
        "x_max = categorical_probs.support.upper_bound\n",
        "x = torch.arange(x_min, x_max + 1)\n",
        "categorical_pdf = categorical_probs.log_prob(x).exp()\n",
        "plt.bar(x, categorical_pdf, label=\"pdf\")\n",
        "plt.vlines(categorical_probs.mean, ymin=0, ymax=0.4, colors=\"r\", label=\"mean\")\n",
        "plt.vlines(categorical_probs.mode, ymin=0, ymax=0.4, colors=\"g\", label=\"mode\")\n",
        "# plt.xlim(0, 20)\n",
        "plt.ylim(0)\n",
        "plt.legend()\n",
        "plt.show()"
      ],
      "metadata": {
        "colab": {
          "base_uri": "https://localhost:8080/",
          "height": 301
        },
        "id": "YBdVeSKVenQY",
        "outputId": "a5371946-08ab-41d7-d11f-4b3adac16b4c"
      },
      "execution_count": null,
      "outputs": [
        {
          "output_type": "stream",
          "name": "stderr",
          "text": [
            "/usr/local/lib/python3.9/dist-packages/matplotlib/axes/_base.py:2503: UserWarning: Warning: converting a masked element to nan.\n",
            "  xys = np.asarray(xys)\n"
          ]
        },
        {
          "output_type": "display_data",
          "data": {
            "text/plain": [
              "<Figure size 432x288 with 1 Axes>"
            ],
            "image/png": "[encoded data removed]"
          },
          "metadata": {
            "needs_background": "light"
          }
        }
      ]
    },
    {
      "cell_type": "code",
      "execution_count": null,
      "metadata": {
        "id": "OLXQ3Zd8_H8q"
      },
      "outputs": [],
      "source": [
        "#vector slicing operations\n",
        "a = np.arange(10)\n",
        "print(f\"a         = {a}\")\n",
        "\n",
        "#access 5 consecutive elements (start:stop:step)\n",
        "c = a[2:7:1];     print(\"a[2:7:1] = \", c)\n",
        "\n",
        "# access 3 elements separated by two \n",
        "c = a[2:7:2];     print(\"a[2:7:2] = \", c)\n",
        "\n",
        "# access all elements index 3 and above\n",
        "c = a[3:];        print(\"a[3:]    = \", c)\n",
        "\n",
        "# access all elements below index 3\n",
        "c = a[:3];        print(\"a[:3]    = \", c)\n",
        "\n",
        "# access all elements\n",
        "c = a[:];         print(\"a[:]     = \", c)"
      ]
    },
    {
      "cell_type": "markdown",
      "metadata": {
        "id": "f19gmEN0_H8q"
      },
      "source": [
        "<a name=\"toc_40015_3.4.3\"></a>\n",
        "### 3.4.3 Single vector operations\n",
        "There are a number of useful operations that involve operations on a single vector."
      ]
    },
    {
      "cell_type": "code",
      "execution_count": null,
      "metadata": {
        "id": "2UySIgxp_H8q"
      },
      "outputs": [],
      "source": [
        "a = np.array([1,2,3,4])\n",
        "print(f\"a             : {a}\")\n",
        "# negate elements of a\n",
        "b = -a \n",
        "print(f\"b = -a        : {b}\")\n",
        "\n",
        "# sum all elements of a, returns a scalar\n",
        "b = np.sum(a) \n",
        "print(f\"b = np.sum(a) : {b}\")\n",
        "\n",
        "b = np.mean(a)\n",
        "print(f\"b = np.mean(a): {b}\")\n",
        "\n",
        "b = a**2\n",
        "print(f\"b = a**2      : {b}\")"
      ]
    },
    {
      "cell_type": "markdown",
      "metadata": {
        "id": "njHLgC9I_H8q"
      },
      "source": [
        "<a name=\"toc_40015_3.4.4\"></a>\n",
        "### 3.4.4 Vector Vector element-wise operations\n",
        "Most of the NumPy arithmetic, logical and comparison operations apply to vectors as well. These operators work on an element-by-element basis. For example \n",
        "$$ c_i = a_i + b_i $$"
      ]
    },
    {
      "cell_type": "code",
      "execution_count": null,
      "metadata": {
        "id": "hP_keuTv_H8q"
      },
      "outputs": [],
      "source": [
        "a = np.array([ 1, 2, 3, 4])\n",
        "b = np.array([-1,-2, 3, 4])\n",
        "print(f\"Binary operators work element wise: {a + b}\")"
      ]
    },
    {
      "cell_type": "markdown",
      "metadata": {
        "id": "PfS8nUIW_H8q"
      },
      "source": [
        "Of course, for this to work correctly, the vectors must be of the same size:"
      ]
    },
    {
      "cell_type": "code",
      "execution_count": null,
      "metadata": {
        "id": "pmFAm9c3_H8q"
      },
      "outputs": [],
      "source": [
        "#try a mismatched vector operation\n",
        "c = np.array([1, 2])\n",
        "try:\n",
        "    d = a + c\n",
        "except Exception as e:\n",
        "    print(\"The error message you'll see is:\")\n",
        "    print(e)"
      ]
    },
    {
      "cell_type": "markdown",
      "metadata": {
        "id": "9XP1N2es_H8q"
      },
      "source": [
        "<a name=\"toc_40015_3.4.5\"></a>\n",
        "### 3.4.5 Scalar Vector operations\n",
        "Vectors can be 'scaled' by scalar values. A scalar value is just a number. The scalar multiplies all the elements of the vector."
      ]
    },
    {
      "cell_type": "code",
      "execution_count": null,
      "metadata": {
        "id": "f8qRwZxD_H8q"
      },
      "outputs": [],
      "source": [
        "a = np.array([1, 2, 3, 4])\n",
        "\n",
        "# multiply a by a scalar\n",
        "b = 5 * a \n",
        "print(f\"b = 5 * a : {b}\")"
      ]
    },
    {
      "cell_type": "markdown",
      "metadata": {
        "id": "NnYLVoEz_H8q"
      },
      "source": [
        "<a name=\"toc_40015_3.4.6\"></a>\n",
        "### 3.4.6 Vector Vector dot product\n",
        "The dot product is a mainstay of Linear Algebra and NumPy. This is an operation used extensively in this course and should be well understood. The dot product is shown below."
      ]
    },
    {
      "cell_type": "markdown",
      "metadata": {
        "id": "MVrRsSb2_H8q"
      },
      "source": [
        "<img src=\"./images/C1_W2_Lab04_dot_notrans.gif\" width=800> "
      ]
    },
    {
      "cell_type": "markdown",
      "metadata": {
        "id": "W_rpGul8_H8q"
      },
      "source": [
        "The dot product multiplies the values in two vectors element-wise and then sums the result.\n",
        "Vector dot product requires the dimensions of the two vectors to be the same. "
      ]
    },
    {
      "cell_type": "markdown",
      "metadata": {
        "id": "-KRYs1D3_H8q"
      },
      "source": [
        "Let's implement our own version of the dot product below:\n",
        "\n",
        "**Using a for loop**, implement a function which returns the dot product of two vectors. The function to return given inputs $a$ and $b$:\n",
        "$$ x = \\sum_{i=0}^{n-1} a_i b_i $$\n",
        "Assume both `a` and `b` are the same shape."
      ]
    },
    {
      "cell_type": "code",
      "execution_count": null,
      "metadata": {
        "id": "Tx4s_MwQ_H8q"
      },
      "outputs": [],
      "source": [
        "def my_dot(a, b): \n",
        "    \"\"\"\n",
        "   Compute the dot product of two vectors\n",
        " \n",
        "    Args:\n",
        "      a (ndarray (n,)):  input vector \n",
        "      b (ndarray (n,)):  input vector with same dimension as a\n",
        "    \n",
        "    Returns:\n",
        "      x (scalar): \n",
        "    \"\"\"\n",
        "    x=0\n",
        "    for i in range(a.shape[0]):\n",
        "        x = x + a[i] * b[i]\n",
        "    return x"
      ]
    },
    {
      "cell_type": "code",
      "execution_count": null,
      "metadata": {
        "id": "m-WQvYjp_H8r"
      },
      "outputs": [],
      "source": [
        "# test 1-D\n",
        "a = np.array([1, 2, 3, 4])\n",
        "b = np.array([-1, 4, 3, 2])\n",
        "print(f\"my_dot(a, b) = {my_dot(a, b)}\")"
      ]
    },
    {
      "cell_type": "markdown",
      "metadata": {
        "id": "ziTsUdwh_H8r"
      },
      "source": [
        "Note, the dot product is expected to return a scalar value. \n",
        "\n",
        "Let's try the same operations using `np.dot`.  "
      ]
    },
    {
      "cell_type": "code",
      "execution_count": null,
      "metadata": {
        "id": "CUdLfMIP_H8r"
      },
      "outputs": [],
      "source": [
        "# test 1-D\n",
        "a = np.array([1, 2, 3, 4])\n",
        "b = np.array([-1, 4, 3, 2])\n",
        "c = np.dot(a, b)\n",
        "print(f\"NumPy 1-D np.dot(a, b) = {c}, np.dot(a, b).shape = {c.shape} \") \n",
        "c = np.dot(b, a)\n",
        "print(f\"NumPy 1-D np.dot(b, a) = {c}, np.dot(a, b).shape = {c.shape} \")\n"
      ]
    },
    {
      "cell_type": "markdown",
      "metadata": {
        "id": "IPXPXqgQ_H8r"
      },
      "source": [
        "Above, you will note that the results for 1-D matched our implementation."
      ]
    },
    {
      "cell_type": "markdown",
      "metadata": {
        "id": "jrWjesD2_H8r"
      },
      "source": [
        "<a name=\"toc_40015_3.4.7\"></a>\n",
        "### 3.4.7 The Need for Speed: vector vs for loop\n",
        "We utilized the NumPy  library because it improves speed memory efficiency. Let's demonstrate:"
      ]
    },
    {
      "cell_type": "code",
      "execution_count": null,
      "metadata": {
        "id": "xzFxVDO3_H8r"
      },
      "outputs": [],
      "source": [
        "np.random.seed(1)\n",
        "a = np.random.rand(10000000)  # very large arrays\n",
        "b = np.random.rand(10000000)\n",
        "\n",
        "tic = time.time()  # capture start time\n",
        "c = np.dot(a, b)\n",
        "toc = time.time()  # capture end time\n",
        "\n",
        "print(f\"np.dot(a, b) =  {c:.4f}\")\n",
        "print(f\"Vectorized version duration: {1000*(toc-tic):.4f} ms \")\n",
        "\n",
        "tic = time.time()  # capture start time\n",
        "c = my_dot(a,b)\n",
        "toc = time.time()  # capture end time\n",
        "\n",
        "print(f\"my_dot(a, b) =  {c:.4f}\")\n",
        "print(f\"loop version duration: {1000*(toc-tic):.4f} ms \")\n",
        "\n",
        "del(a);del(b)  #remove these big arrays from memory"
      ]
    },
    {
      "cell_type": "markdown",
      "metadata": {
        "id": "D0hUzNW3_H8r"
      },
      "source": [
        "So, vectorization provides a large speed up in this example. This is because NumPy makes better use of available data parallelism in the underlying hardware. GPU's and modern CPU's implement Single Instruction, Multiple Data (SIMD) pipelines allowing multiple operations to be issued in parallel. This is critical in Machine Learning where the data sets are often very large."
      ]
    },
    {
      "cell_type": "markdown",
      "metadata": {
        "id": "KetPKlnF_H8r"
      },
      "source": [
        "<a name=\"toc_12345_3.4.8\"></a>\n",
        "### 3.4.8 Vector Vector operations in Course 1\n",
        "Vector Vector operations will appear frequently in course 1. Here is why:\n",
        "- Going forward, our examples will be stored in an array, `X_train` of dimension (m,n). This will be explained more in context, but here it is important to note it is a 2 Dimensional array or matrix (see next section on matrices).\n",
        "- `w` will be a 1-dimensional vector of shape (n,).\n",
        "- we will perform operations by looping through the examples, extracting each example to work on individually by indexing X. For example:`X[i]`\n",
        "- `X[i]` returns a value of shape (n,), a 1-dimensional vector. Consequently, operations involving `X[i]` are often vector-vector.  \n",
        "\n",
        "That is a somewhat lengthy explanation, but aligning and understanding the shapes of your operands is important when performing vector operations."
      ]
    },
    {
      "cell_type": "code",
      "execution_count": null,
      "metadata": {
        "id": "HKxFpRTg_H8r"
      },
      "outputs": [],
      "source": [
        "# show common Course 1 example\n",
        "X = np.array([[1],[2],[3],[4]])\n",
        "w = np.array([2])\n",
        "c = np.dot(X[1], w)\n",
        "\n",
        "print(f\"X[1] has shape {X[1].shape}\")\n",
        "print(f\"w has shape {w.shape}\")\n",
        "print(f\"c has shape {c.shape}\")"
      ]
    },
    {
      "cell_type": "markdown",
      "metadata": {
        "id": "sJWwogoG_H8r"
      },
      "source": [
        "<a name=\"toc_40015_4\"></a>\n",
        "# 4 Matrices\n"
      ]
    },
    {
      "cell_type": "markdown",
      "metadata": {
        "id": "OlZztQjL_H8r"
      },
      "source": [
        "<a name=\"toc_40015_4.1\"></a>\n",
        "## 4.1 Abstract\n",
        "Matrices, are two dimensional arrays. The elements of a matrix are all of the same type. In notation, matrices are denoted with capitol, bold letter such as $\\mathbf{X}$. In this and other labs, `m` is often the number of rows and `n` the number of columns. The elements of a matrix can be referenced with a two dimensional index. In math settings, numbers in the index typically run from 1 to n. In computer science and these labs, indexing will run from 0 to n-1.  \n",
        "<figure>\n",
        "    <center> <img src=\"./images/C1_W2_Lab04_Matrices.PNG\"  alt='missing'  width=900><center/>\n",
        "    <figcaption> Generic Matrix Notation, 1st index is row, 2nd is column </figcaption>\n",
        "<figure/>"
      ]
    },
    {
      "cell_type": "markdown",
      "metadata": {
        "id": "VZZ3wfdn_H8r"
      },
      "source": [
        "<a name=\"toc_40015_4.2\"></a>\n",
        "## 4.2 NumPy Arrays\n",
        "\n",
        "NumPy's basic data structure is an indexable, n-dimensional *array* containing elements of the same type (`dtype`). These were described earlier. Matrices have a two-dimensional (2-D) index [m,n].\n",
        "\n",
        "In Course 1, 2-D matrices are used to hold training data. Training data is $m$ examples by $n$ features creating an (m,n) array. Course 1 does not do operations directly on matrices but typically extracts an example as a vector and operates on that. Below you will review: \n",
        "- data creation\n",
        "- slicing and indexing"
      ]
    },
    {
      "cell_type": "markdown",
      "metadata": {
        "id": "KIwCsPOs_H8r"
      },
      "source": [
        "<a name=\"toc_40015_4.3\"></a>\n",
        "## 4.3 Matrix Creation\n",
        "The same functions that created 1-D vectors will create 2-D or n-D arrays. Here are some examples\n"
      ]
    },
    {
      "cell_type": "markdown",
      "metadata": {
        "id": "SpPuEwdO_H8r"
      },
      "source": [
        "Below, the shape tuple is provided to achieve a 2-D result. Notice how NumPy uses brackets to denote each dimension. Notice further than NumPy, when printing, will print one row per line.\n"
      ]
    },
    {
      "cell_type": "code",
      "execution_count": null,
      "metadata": {
        "id": "4gc4jxk9_H8r"
      },
      "outputs": [],
      "source": [
        "a = np.zeros((1, 5))                                       \n",
        "print(f\"a shape = {a.shape}, a = {a}\")                     \n",
        "\n",
        "a = np.zeros((2, 1))                                                                   \n",
        "print(f\"a shape = {a.shape}, a = {a}\") \n",
        "\n",
        "a = np.random.random_sample((1, 1))  \n",
        "print(f\"a shape = {a.shape}, a = {a}\") "
      ]
    },
    {
      "cell_type": "markdown",
      "metadata": {
        "id": "7rpE0Rlk_H8r"
      },
      "source": [
        "One can also manually specify data. Dimensions are specified with additional brackets matching the format in the printing above."
      ]
    },
    {
      "cell_type": "code",
      "execution_count": null,
      "metadata": {
        "id": "kGClAZPX_H8s"
      },
      "outputs": [],
      "source": [
        "# NumPy routines which allocate memory and fill with user specified values\n",
        "a = np.array([[5], [4], [3]]);   print(f\" a shape = {a.shape}, np.array: a = {a}\")\n",
        "a = np.array([[5],   # One can also\n",
        "              [4],   # separate values\n",
        "              [3]]); #into separate rows\n",
        "print(f\" a shape = {a.shape}, np.array: a = {a}\")"
      ]
    },
    {
      "cell_type": "markdown",
      "metadata": {
        "id": "V6MPI4mf_H8s"
      },
      "source": [
        "<a name=\"toc_40015_4.4\"></a>\n",
        "## 4.4 Operations on Matrices\n",
        "Let's explore some operations using matrices."
      ]
    },
    {
      "cell_type": "markdown",
      "metadata": {
        "id": "7522yTzl_H8s"
      },
      "source": [
        "<a name=\"toc_40015_4.4.1\"></a>\n",
        "### 4.4.1 Indexing\n"
      ]
    },
    {
      "cell_type": "markdown",
      "metadata": {
        "id": "1088HUHI_H8s"
      },
      "source": [
        "Matrices include a second index. The two indexes describe [row, column]. Access can either return an element or a row/column. See below:"
      ]
    },
    {
      "cell_type": "code",
      "execution_count": null,
      "metadata": {
        "id": "LHdHQ93S_H8s"
      },
      "outputs": [],
      "source": [
        "#vector indexing operations on matrices\n",
        "a = np.arange(6).reshape(-1, 2)   #reshape is a convenient way to create matrices\n",
        "print(f\"a.shape: {a.shape}, \\na= {a}\")\n",
        "\n",
        "#access an element\n",
        "print(f\"\\na[2,0].shape:   {a[2, 0].shape}, a[2,0] = {a[2, 0]},     type(a[2,0]) = {type(a[2, 0])} Accessing an element returns a scalar\\n\")\n",
        "\n",
        "#access a row\n",
        "print(f\"a[2].shape:   {a[2].shape}, a[2]   = {a[2]}, type(a[2])   = {type(a[2])}\")"
      ]
    },
    {
      "cell_type": "markdown",
      "metadata": {
        "id": "9jx7c749_H8s"
      },
      "source": [
        "It is worth drawing attention to the last example. Accessing a matrix by just specifying the row will return a *1-D vector*."
      ]
    },
    {
      "cell_type": "markdown",
      "metadata": {
        "id": "pqqMLSp7_H8s"
      },
      "source": [
        "**Reshape**  \n",
        "The previous example used [reshape](https://numpy.org/doc/stable/reference/generated/numpy.reshape.html) to shape the array.  \n",
        "`a = np.arange(6).reshape(-1, 2) `   \n",
        "This line of code first created a *1-D Vector* of six elements. It then reshaped that vector into a *2-D* array using the reshape command. This could have been written:  \n",
        "`a = np.arange(6).reshape(3, 2) `  \n",
        "To arrive at the same 3 row, 2 column array.\n",
        "The -1 argument tells the routine to compute the number of rows given the size of the array and the number of columns.\n"
      ]
    },
    {
      "cell_type": "markdown",
      "metadata": {
        "id": "Hn1ollhR_H8s"
      },
      "source": [
        "<a name=\"toc_40015_4.4.2\"></a>\n",
        "### 4.4.2 Slicing\n",
        "Slicing creates an array of indices using a set of three values (`start:stop:step`). A subset of values is also valid. Its use is best explained by example:"
      ]
    },
    {
      "cell_type": "code",
      "execution_count": null,
      "metadata": {
        "id": "qAdJuy3B_H8s"
      },
      "outputs": [],
      "source": [
        "#vector 2-D slicing operations\n",
        "a = np.arange(20).reshape(-1, 10)\n",
        "print(f\"a = \\n{a}\")\n",
        "\n",
        "#access 5 consecutive elements (start:stop:step)\n",
        "print(\"a[0, 2:7:1] = \", a[0, 2:7:1], \",  a[0, 2:7:1].shape =\", a[0, 2:7:1].shape, \"a 1-D array\")\n",
        "\n",
        "#access 5 consecutive elements (start:stop:step) in two rows\n",
        "print(\"a[:, 2:7:1] = \\n\", a[:, 2:7:1], \",  a[:, 2:7:1].shape =\", a[:, 2:7:1].shape, \"a 2-D array\")\n",
        "\n",
        "# access all elements\n",
        "print(\"a[:,:] = \\n\", a[:,:], \",  a[:,:].shape =\", a[:,:].shape)\n",
        "\n",
        "# access all elements in one row (very common usage)\n",
        "print(\"a[1,:] = \", a[1,:], \",  a[1,:].shape =\", a[1,:].shape, \"a 1-D array\")\n",
        "# same as\n",
        "print(\"a[1]   = \", a[1],   \",  a[1].shape   =\", a[1].shape, \"a 1-D array\")\n"
      ]
    },
    {
      "cell_type": "markdown",
      "metadata": {
        "id": "KysL-uIr_H8s"
      },
      "source": [
        "<a name=\"toc_40015_5.0\"></a>\n",
        "## Congratulations!\n",
        "In this lab you mastered the features of Python and NumPy that are needed for Course 1."
      ]
    },
    {
      "cell_type": "code",
      "execution_count": null,
      "metadata": {
        "id": "3SbKrFpA_H8s"
      },
      "outputs": [],
      "source": []
    }
  ],
  "metadata": {
    "dl_toc_settings": {
      "rndtag": "40015"
    },
    "kernelspec": {
      "display_name": "Python 3",
      "language": "python",
      "name": "python3"
    },
    "language_info": {
      "codemirror_mode": {
        "name": "ipython",
        "version": 3
      },
      "file_extension": ".py",
      "mimetype": "text/x-python",
      "name": "python",
      "nbconvert_exporter": "python",
      "pygments_lexer": "ipython3",
      "version": "3.7.6"
    },
    "toc-autonumbering": false,
    "colab": {
      "provenance": []
    }
  },
  "nbformat": 4,
  "nbformat_minor": 0
}